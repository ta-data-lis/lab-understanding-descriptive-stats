{
 "cells": [
  {
   "cell_type": "markdown",
   "metadata": {},
   "source": [
    "# Understanding Descriptive Statistics\n",
    "\n",
    "Import the necessary libraries here:"
   ]
  },
  {
   "cell_type": "code",
   "execution_count": 65,
   "metadata": {},
   "outputs": [],
   "source": [
    "# Libraries\n",
    "import random\n",
    "import pandas as pd\n",
    "import numpy as np"
   ]
  },
  {
   "cell_type": "markdown",
   "metadata": {},
   "source": [
    "## Challenge 1\n",
    "#### 1.- Define a function that simulates rolling a dice 10 times. Save the information in a dataframe.\n",
    "**Hint**: you can use the *choices* function from module *random* to help you with the simulation."
   ]
  },
  {
   "cell_type": "code",
   "execution_count": 66,
   "metadata": {},
   "outputs": [
    {
     "data": {
      "text/html": [
       "<div>\n",
       "<style scoped>\n",
       "    .dataframe tbody tr th:only-of-type {\n",
       "        vertical-align: middle;\n",
       "    }\n",
       "\n",
       "    .dataframe tbody tr th {\n",
       "        vertical-align: top;\n",
       "    }\n",
       "\n",
       "    .dataframe thead th {\n",
       "        text-align: right;\n",
       "    }\n",
       "</style>\n",
       "<table border=\"1\" class=\"dataframe\">\n",
       "  <thead>\n",
       "    <tr style=\"text-align: right;\">\n",
       "      <th></th>\n",
       "      <th>roll</th>\n",
       "      <th>value</th>\n",
       "    </tr>\n",
       "  </thead>\n",
       "  <tbody>\n",
       "    <tr>\n",
       "      <th>0</th>\n",
       "      <td>0</td>\n",
       "      <td>1</td>\n",
       "    </tr>\n",
       "    <tr>\n",
       "      <th>1</th>\n",
       "      <td>1</td>\n",
       "      <td>2</td>\n",
       "    </tr>\n",
       "    <tr>\n",
       "      <th>2</th>\n",
       "      <td>2</td>\n",
       "      <td>2</td>\n",
       "    </tr>\n",
       "    <tr>\n",
       "      <th>3</th>\n",
       "      <td>3</td>\n",
       "      <td>2</td>\n",
       "    </tr>\n",
       "    <tr>\n",
       "      <th>4</th>\n",
       "      <td>4</td>\n",
       "      <td>6</td>\n",
       "    </tr>\n",
       "    <tr>\n",
       "      <th>5</th>\n",
       "      <td>5</td>\n",
       "      <td>1</td>\n",
       "    </tr>\n",
       "    <tr>\n",
       "      <th>6</th>\n",
       "      <td>6</td>\n",
       "      <td>3</td>\n",
       "    </tr>\n",
       "    <tr>\n",
       "      <th>7</th>\n",
       "      <td>7</td>\n",
       "      <td>6</td>\n",
       "    </tr>\n",
       "    <tr>\n",
       "      <th>8</th>\n",
       "      <td>8</td>\n",
       "      <td>2</td>\n",
       "    </tr>\n",
       "    <tr>\n",
       "      <th>9</th>\n",
       "      <td>9</td>\n",
       "      <td>1</td>\n",
       "    </tr>\n",
       "  </tbody>\n",
       "</table>\n",
       "</div>"
      ],
      "text/plain": [
       "   roll  value\n",
       "0     0      1\n",
       "1     1      2\n",
       "2     2      2\n",
       "3     3      2\n",
       "4     4      6\n",
       "5     5      1\n",
       "6     6      3\n",
       "7     7      6\n",
       "8     8      2\n",
       "9     9      1"
      ]
     },
     "execution_count": 66,
     "metadata": {},
     "output_type": "execute_result"
    }
   ],
   "source": [
    "# your code here\n",
    "rolling_dice = random.choices(range(1,7), k=10)\n",
    "d= {'roll': range(len(rolling_dice)), 'value': rolling_dice}\n",
    "df= pd.DataFrame(data= d)\n",
    "df"
   ]
  },
  {
   "cell_type": "markdown",
   "metadata": {},
   "source": [
    "#### 2.- Plot the results sorted by value."
   ]
  },
  {
   "cell_type": "code",
   "execution_count": 67,
   "metadata": {},
   "outputs": [
    {
     "data": {
      "image/png": "[encoded data removed]",
      "text/plain": [
       "<Figure size 432x288 with 1 Axes>"
      ]
     },
     "metadata": {
      "needs_background": "light"
     },
     "output_type": "display_data"
    }
   ],
   "source": [
    "# your code here\n",
    "df = df.sort_values(by= 'value', ignore_index= True)\n",
    "df['roll'] = df.index.values\n",
    "df.plot(x= 'roll', y= 'value', kind= 'scatter', grid= True, xticks= range(len(df)));"
   ]
  },
  {
   "cell_type": "markdown",
   "metadata": {},
   "source": [
    "#### 3.- Calculate the frequency distribution and plot it. What is the relation between this plot and the plot above? Describe it with words."
   ]
  },
  {
   "cell_type": "code",
   "execution_count": 68,
   "metadata": {},
   "outputs": [
    {
     "data": {
      "image/png": "[encoded data removed]",
      "text/plain": [
       "<Figure size 432x288 with 1 Axes>"
      ]
     },
     "metadata": {
      "needs_background": "light"
     },
     "output_type": "display_data"
    }
   ],
   "source": [
    "df['value'].plot(kind= 'hist', grid= True, xticks= range(1,7), yticks= range(1,7));"
   ]
  },
  {
   "cell_type": "code",
   "execution_count": 69,
   "metadata": {},
   "outputs": [
    {
     "name": "stdout",
     "output_type": "stream",
     "text": [
      "\n",
      "The histogram above presents the counting of each dice's face after 10 rollings. The scatter plot presented in point 2 \n",
      "presents the number obtained in 10 dice rollings in a sorted way. So, the number of points in each y of plot of point 2\n",
      "corresponds to the height of bins in histogram.\n",
      "\n"
     ]
    }
   ],
   "source": [
    "print(\"\"\"\n",
    "The histogram above presents the counting of each dice's face after 10 rollings. The scatter plot presented in point 2 \n",
    "presents the number obtained in 10 dice rollings in a sorted way. So, the number of points in each y of plot of point 2\n",
    "corresponds to the height of bins in histogram.\n",
    "\"\"\")"
   ]
  },
  {
   "cell_type": "markdown",
   "metadata": {},
   "source": [
    "## Challenge 2\n",
    "Now, using the dice results obtained in *challenge 1*, your are going to define some functions that will help you calculate the mean of your data in two different ways, the median and the four quartiles. \n",
    "\n",
    "#### 1.- Define a function that computes the mean by summing all the observations and dividing by the total number of observations. You are not allowed to use any methods or functions that directly calculate the mean value. "
   ]
  },
  {
   "cell_type": "code",
   "execution_count": 70,
   "metadata": {},
   "outputs": [
    {
     "data": {
      "text/plain": [
       "2.6"
      ]
     },
     "execution_count": 70,
     "metadata": {},
     "output_type": "execute_result"
    }
   ],
   "source": [
    "# your code here\n",
    "def mean(dataframe):\n",
    "    return np.sum(dataframe.values)/len(dataframe)\n",
    "\n",
    "mean(df[['value']])"
   ]
  },
  {
   "cell_type": "markdown",
   "metadata": {},
   "source": [
    "#### 2.- First, calculate the frequency distribution. Then, calculate the mean using the values of the frequency distribution you've just computed. You are not allowed to use any methods or functions that directly calculate the mean value. "
   ]
  },
  {
   "cell_type": "code",
   "execution_count": 71,
   "metadata": {},
   "outputs": [
    {
     "data": {
      "text/plain": [
       "2.6"
      ]
     },
     "execution_count": 71,
     "metadata": {},
     "output_type": "execute_result"
    }
   ],
   "source": [
    "# your code here\n",
    "# Frequency distribution\n",
    "freq = df.groupby(by= 'value').agg('count')\n",
    "\n",
    "# Mean computed through the dataframe obtained in the previous line\n",
    "sum_i= 0\n",
    "total_sum= 0\n",
    "for i in range(len(freq)):\n",
    "    sum_i += freq.iloc[i].values[0]*freq.index[i]\n",
    "    total_sum += freq.iloc[i].values[0]\n",
    "sum_i = sum_i/total_sum\n",
    "sum_i"
   ]
  },
  {
   "cell_type": "markdown",
   "metadata": {},
   "source": [
    "#### 3.- Define a function to calculate the median. You are not allowed to use any methods or functions that directly calculate the median value. \n",
    "**Hint**: you might need to define two computation cases depending on the number of observations used to calculate the median."
   ]
  },
  {
   "cell_type": "code",
   "execution_count": 72,
   "metadata": {},
   "outputs": [
    {
     "data": {
      "text/plain": [
       "2.0"
      ]
     },
     "execution_count": 72,
     "metadata": {},
     "output_type": "execute_result"
    }
   ],
   "source": [
    "# your code here\n",
    "def median(dataframe, q=0.5):\n",
    "    if ((q != 0) & (q != 1)):\n",
    "        if len(dataframe) % 2 == 0:\n",
    "            return (dataframe.sort_values(by= dataframe.columns[0], ignore_index= True).loc[int(len(dataframe)//(1/q)-1)]+\\\n",
    "                    dataframe.sort_values(by= dataframe.columns[0], ignore_index= True).loc[int(len(dataframe)//(1/q))])/2\n",
    "        else:\n",
    "            return dataframe.sort_values(by= dataframe.columns[0], ignore_index= True).loc[int((len(dataframe)-1)//(1/q))]\n",
    "    elif q == 0:\n",
    "        return dataframe.sort_values(by= dataframe.columns[0], ignore_index= True).loc[q]\n",
    "    else:\n",
    "        return dataframe.sort_values(by= dataframe.columns[0], ignore_index= True).loc[len(dataframe)-1]\n",
    "        \n",
    "    \n",
    "median(df[['value']]).value"
   ]
  },
  {
   "cell_type": "markdown",
   "metadata": {},
   "source": [
    "#### 4.- Define a function to calculate the four quartiles. You can use the function you defined above to compute the median but you are not allowed to use any methods or functions that directly calculate the quartiles. "
   ]
  },
  {
   "cell_type": "code",
   "execution_count": 73,
   "metadata": {},
   "outputs": [
    {
     "name": "stdout",
     "output_type": "stream",
     "text": [
      "The first quartile is:  1.0\n",
      "The second quartile is:  2.0\n",
      "The third quartile is:  2.5\n",
      "The fourth quartile is:  6\n"
     ]
    }
   ],
   "source": [
    "# your code here\n",
    "print(\"The first quartile is: \", median(df[['value']], q=0.25)[0])\n",
    "print(\"The second quartile is: \", median(df[['value']])[0])\n",
    "print(\"The third quartile is: \", median(df[['value']], q=0.75)[0])\n",
    "print(\"The fourth quartile is: \", median(df[['value']], q=1)[0])"
   ]
  },
  {
   "cell_type": "markdown",
   "metadata": {},
   "source": [
    "## Challenge 3\n",
    "Read the csv `roll_the_dice_hundred.csv` from the `data` folder.\n",
    "#### 1.- Sort the values and plot them. What do you see?"
   ]
  },
  {
   "cell_type": "code",
   "execution_count": 74,
   "metadata": {},
   "outputs": [
    {
     "data": {
      "image/png": "[encoded data removed]",
      "text/plain": [
       "<Figure size 432x288 with 1 Axes>"
      ]
     },
     "metadata": {
      "needs_background": "light"
     },
     "output_type": "display_data"
    }
   ],
   "source": [
    "# your code here\n",
    "data = pd.read_csv('../data/roll_the_dice_hundred.csv')\n",
    "data = data.drop(columns= ['Unnamed: 0']).sort_values(by= 'value', ignore_index= True)\n",
    "data['roll'] = data.index.values\n",
    "data.plot(x= 'roll', y= 'value', kind= 'scatter');"
   ]
  },
  {
   "cell_type": "code",
   "execution_count": 75,
   "metadata": {},
   "outputs": [
    {
     "name": "stdout",
     "output_type": "stream",
     "text": [
      "\n",
      "The plot has a format of steps, because the column 'value' was sorted ascendingly. So, the values with same dice face were \n",
      "grouped together.\n",
      "\n"
     ]
    }
   ],
   "source": [
    "print(\"\"\"\n",
    "The plot has a format of steps, because the column 'value' was sorted ascendingly. So, the values with same dice face were \n",
    "grouped together.\n",
    "\"\"\")"
   ]
  },
  {
   "cell_type": "markdown",
   "metadata": {},
   "source": [
    "#### 2.- Using the functions you defined in *challenge 2*, calculate the mean value of the hundred dice rolls."
   ]
  },
  {
   "cell_type": "code",
   "execution_count": 76,
   "metadata": {},
   "outputs": [
    {
     "data": {
      "text/plain": [
       "3.74"
      ]
     },
     "execution_count": 76,
     "metadata": {},
     "output_type": "execute_result"
    }
   ],
   "source": [
    "# your code here\n",
    "mean(data[['value']])"
   ]
  },
  {
   "cell_type": "markdown",
   "metadata": {},
   "source": [
    "#### 3.- Now, calculate the frequency distribution.\n"
   ]
  },
  {
   "cell_type": "code",
   "execution_count": 77,
   "metadata": {},
   "outputs": [
    {
     "data": {
      "text/html": [
       "<div>\n",
       "<style scoped>\n",
       "    .dataframe tbody tr th:only-of-type {\n",
       "        vertical-align: middle;\n",
       "    }\n",
       "\n",
       "    .dataframe tbody tr th {\n",
       "        vertical-align: top;\n",
       "    }\n",
       "\n",
       "    .dataframe thead th {\n",
       "        text-align: right;\n",
       "    }\n",
       "</style>\n",
       "<table border=\"1\" class=\"dataframe\">\n",
       "  <thead>\n",
       "    <tr style=\"text-align: right;\">\n",
       "      <th></th>\n",
       "      <th>roll</th>\n",
       "    </tr>\n",
       "    <tr>\n",
       "      <th>value</th>\n",
       "      <th></th>\n",
       "    </tr>\n",
       "  </thead>\n",
       "  <tbody>\n",
       "    <tr>\n",
       "      <th>1</th>\n",
       "      <td>12</td>\n",
       "    </tr>\n",
       "    <tr>\n",
       "      <th>2</th>\n",
       "      <td>17</td>\n",
       "    </tr>\n",
       "    <tr>\n",
       "      <th>3</th>\n",
       "      <td>14</td>\n",
       "    </tr>\n",
       "    <tr>\n",
       "      <th>4</th>\n",
       "      <td>22</td>\n",
       "    </tr>\n",
       "    <tr>\n",
       "      <th>5</th>\n",
       "      <td>12</td>\n",
       "    </tr>\n",
       "    <tr>\n",
       "      <th>6</th>\n",
       "      <td>23</td>\n",
       "    </tr>\n",
       "  </tbody>\n",
       "</table>\n",
       "</div>"
      ],
      "text/plain": [
       "       roll\n",
       "value      \n",
       "1        12\n",
       "2        17\n",
       "3        14\n",
       "4        22\n",
       "5        12\n",
       "6        23"
      ]
     },
     "execution_count": 77,
     "metadata": {},
     "output_type": "execute_result"
    }
   ],
   "source": [
    "# your code here\n",
    "freq_dist= data.groupby('value').agg('count')\n",
    "freq_dist"
   ]
  },
  {
   "cell_type": "markdown",
   "metadata": {},
   "source": [
    "#### 4.- Plot the histogram. What do you see (shape, values...) ? How can you connect the mean value to the histogram? "
   ]
  },
  {
   "cell_type": "code",
   "execution_count": 78,
   "metadata": {},
   "outputs": [
    {
     "data": {
      "image/png": "[encoded data removed]",
      "text/plain": [
       "<Figure size 432x288 with 1 Axes>"
      ]
     },
     "metadata": {
      "needs_background": "light"
     },
     "output_type": "display_data"
    }
   ],
   "source": [
    "# your code here\n",
    "data['value'].plot(kind= 'hist', grid= True, xticks= range(1,7), yticks= range(1,freq_dist.max().values[0]+1));"
   ]
  },
  {
   "cell_type": "code",
   "execution_count": 79,
   "metadata": {},
   "outputs": [
    {
     "name": "stdout",
     "output_type": "stream",
     "text": [
      "\n",
      "The frequency of each face is not the same. Actually, they range from 12 to 23, whose difference is almost twice. The \n",
      "frequency for 1 is 12, for 2 is 17, for 3 is 14, for 4 is 22, for 5 is 12 and for 6 is 23. The mean value is obtained by \n",
      "multiplying each face value by its frequency and dividing by the sum of frequencies\n"
     ]
    }
   ],
   "source": [
    "print(\"\"\"\n",
    "The frequency of each face is not the same. Actually, they range from 12 to 23, whose difference is almost twice. The \n",
    "frequency for 1 is 12, for 2 is 17, for 3 is 14, for 4 is 22, for 5 is 12 and for 6 is 23. The mean value is obtained by \n",
    "multiplying each face value by its frequency and dividing by the sum of frequencies\"\"\")"
   ]
  },
  {
   "cell_type": "markdown",
   "metadata": {},
   "source": [
    "#### 5.- Read the `roll_the_dice_thousand.csv` from the `data` folder. Plot the frequency distribution as you did before. Has anything changed? Why do you think it changed?"
   ]
  },
  {
   "cell_type": "code",
   "execution_count": 80,
   "metadata": {},
   "outputs": [
    {
     "data": {
      "image/png": "[encoded data removed]",
      "text/plain": [
       "<Figure size 432x288 with 1 Axes>"
      ]
     },
     "metadata": {
      "needs_background": "light"
     },
     "output_type": "display_data"
    }
   ],
   "source": [
    "# your code here\n",
    "data = pd.read_csv('../data/roll_the_dice_thousand.csv')\n",
    "data = data.drop(columns= ['Unnamed: 0'])\n",
    "freq_dist= data.groupby('value').agg('count')\n",
    "data['value'].plot(kind= 'hist', grid= True, xticks= range(1,7));"
   ]
  },
  {
   "cell_type": "code",
   "execution_count": 81,
   "metadata": {},
   "outputs": [
    {
     "name": "stdout",
     "output_type": "stream",
     "text": [
      "The difference of frequencies among each face value reduced. The values range from 149 to 175, being the difference 17.45 %. The frequency for 1 is 175, for 2 is 167, for 3 is 175, for 4 is 168, for 5 is 149 and for 6 is 166.\n"
     ]
    }
   ],
   "source": [
    "print(f\"\"\"The difference of frequencies among each face value reduced. The values range from \\\n",
    "{data.groupby(by= 'value').agg('count').min().values[0]} to {data.groupby(by= 'value').agg('count').max().values[0]}, \\\n",
    "being the difference {(data.groupby(by= 'value').agg('count').max().values[0]-data.groupby(by= 'value').agg('count').min().values[0])/data.groupby(by= 'value').agg('count').min().values[0]*100:.2f} %. \\\n",
    "The frequency for 1 is {data.groupby(by= 'value').agg('count').iloc[0].values[0]}, for 2 is \\\n",
    "{data.groupby(by= 'value').agg('count').iloc[1].values[0]}, for 3 is \\\n",
    "{data.groupby(by= 'value').agg('count').iloc[2].values[0]}, for 4 is \\\n",
    "{data.groupby(by= 'value').agg('count').iloc[3].values[0]}, for 5 is \\\n",
    "{data.groupby(by= 'value').agg('count').iloc[4].values[0]} and for 6 is \\\n",
    "{data.groupby(by= 'value').agg('count').iloc[5].values[0]}.\"\"\")"
   ]
  },
  {
   "cell_type": "markdown",
   "metadata": {},
   "source": [
    "## Challenge 4\n",
    "In the `data` folder of this repository you will find three different files with the prefix `ages_population`. These files contain information about a poll answered by a thousand people regarding their age. Each file corresponds to the poll answers in different neighbourhoods of Barcelona.\n",
    "\n",
    "#### 1.- Read the file `ages_population.csv`. Calculate the frequency distribution and plot it as we did during the lesson. Try to guess the range in which the mean and the standard deviation will be by looking at the plot. "
   ]
  },
  {
   "cell_type": "code",
   "execution_count": 82,
   "metadata": {},
   "outputs": [
    {
     "data": {
      "image/png": "[encoded data removed]",
      "text/plain": [
       "<Figure size 432x288 with 1 Axes>"
      ]
     },
     "metadata": {
      "needs_background": "light"
     },
     "output_type": "display_data"
    }
   ],
   "source": [
    "# your code here\n",
    "data = pd.read_csv('../data/ages_population.csv')\n",
    "data.plot(kind= 'hist', grid= True);"
   ]
  },
  {
   "cell_type": "code",
   "execution_count": 83,
   "metadata": {},
   "outputs": [
    {
     "name": "stdout",
     "output_type": "stream",
     "text": [
      "I would say that the mean is around 35 years (somewhere between 30 and 40 years) and the standard deviation would be 12.5 years (half the value of: right edge of bar at right of the highest (~50) - left edge of bar at left of the highest (~25)).\n"
     ]
    }
   ],
   "source": [
    "print(\"I would say that the mean is around 35 years (somewhere between 30 and 40 years) and the standard deviation would be \\\n",
    "12.5 years (half the value of: right edge of bar at right of the highest (~50) - left edge of bar at left of the highest \\\n",
    "(~25)).\")"
   ]
  },
  {
   "cell_type": "markdown",
   "metadata": {},
   "source": [
    "#### 2.- Calculate the exact mean and standard deviation and compare them with your guesses. Do they fall inside the ranges you guessed?"
   ]
  },
  {
   "cell_type": "code",
   "execution_count": 84,
   "metadata": {},
   "outputs": [
    {
     "name": "stdout",
     "output_type": "stream",
     "text": [
      "The mean is:  36.56\n",
      "The standard deviation is:  12.816499625976762\n"
     ]
    }
   ],
   "source": [
    "# your code here\n",
    "print('The mean is: ', data.mean().values[0])\n",
    "print('The standard deviation is: ', data.std().values[0])"
   ]
  },
  {
   "cell_type": "code",
   "execution_count": 85,
   "metadata": {},
   "outputs": [
    {
     "name": "stdout",
     "output_type": "stream",
     "text": [
      "\n",
      "There are some differences: -4.3 % for the mean and -2.5 % for the standard deviation.\n",
      "\n"
     ]
    }
   ],
   "source": [
    "print(\"\"\"\n",
    "There are some differences: -4.3 % for the mean and -2.5 % for the standard deviation.\n",
    "\"\"\")"
   ]
  },
  {
   "cell_type": "markdown",
   "metadata": {},
   "source": [
    "#### 3.- Now read the file `ages_population2.csv` . Calculate the frequency distribution and plot it."
   ]
  },
  {
   "cell_type": "code",
   "execution_count": 86,
   "metadata": {},
   "outputs": [
    {
     "data": {
      "image/png": "[encoded data removed]",
      "text/plain": [
       "<Figure size 432x288 with 1 Axes>"
      ]
     },
     "metadata": {
      "needs_background": "light"
     },
     "output_type": "display_data"
    }
   ],
   "source": [
    "# your code here\n",
    "data = pd.read_csv('../data/ages_population2.csv')\n",
    "data.plot(kind= 'hist', grid= True);"
   ]
  },
  {
   "cell_type": "markdown",
   "metadata": {},
   "source": [
    "####  4.- What do you see? Is there any difference with the frequency distribution in step 1?"
   ]
  },
  {
   "cell_type": "code",
   "execution_count": 87,
   "metadata": {},
   "outputs": [
    {
     "name": "stdout",
     "output_type": "stream",
     "text": [
      "The range of ages is different. It seems there are two central bins, instead of one. The shape of the histogram is more similar to the normal in step 1, because there is a more slow reduction in frequencies in the bins around the central one.\n"
     ]
    }
   ],
   "source": [
    "print(\"\"\"The range of ages is different. It seems there are two central bins, instead of one. The shape of the histogram is \\\n",
    "more similar to the normal in step 1, because there is a more slow reduction in frequencies in the bins around the central \\\n",
    "one.\"\"\")"
   ]
  },
  {
   "cell_type": "markdown",
   "metadata": {},
   "source": [
    "#### 5.- Calculate the mean and standard deviation. Compare the results with the mean and standard deviation in step 2. What do you think?"
   ]
  },
  {
   "cell_type": "code",
   "execution_count": 88,
   "metadata": {},
   "outputs": [
    {
     "name": "stdout",
     "output_type": "stream",
     "text": [
      "The mean is:  27.155\n",
      "The standard deviation is:  2.969813932689186\n"
     ]
    }
   ],
   "source": [
    "# your code here\n",
    "print('The mean is: ', data.mean().values[0])\n",
    "print('The standard deviation is: ', data.std().values[0])"
   ]
  },
  {
   "cell_type": "code",
   "execution_count": 89,
   "metadata": {},
   "outputs": [
    {
     "name": "stdout",
     "output_type": "stream",
     "text": [
      "Now the mean is smaller (-25%) and the standard deviation is also smaller (~ -77%).\n"
     ]
    }
   ],
   "source": [
    "print(\"\"\"Now the mean is smaller (-25%) and the standard deviation is also smaller (~ -77%).\"\"\")"
   ]
  },
  {
   "cell_type": "markdown",
   "metadata": {},
   "source": [
    "## Challenge 5\n",
    "Now is the turn of `ages_population3.csv`.\n",
    "\n",
    "#### 1.- Read the file `ages_population3.csv`. Calculate the frequency distribution and plot it."
   ]
  },
  {
   "cell_type": "code",
   "execution_count": 90,
   "metadata": {},
   "outputs": [
    {
     "data": {
      "image/png": "[encoded data removed]",
      "text/plain": [
       "<Figure size 432x288 with 1 Axes>"
      ]
     },
     "metadata": {
      "needs_background": "light"
     },
     "output_type": "display_data"
    }
   ],
   "source": [
    "# your code here\n",
    "data = pd.read_csv('../data/ages_population3.csv')\n",
    "data.plot(kind= 'hist', grid= True);"
   ]
  },
  {
   "cell_type": "markdown",
   "metadata": {},
   "source": [
    "#### 2.- Calculate the mean and standard deviation. Compare the results with the plot in step 1. What is happening?"
   ]
  },
  {
   "cell_type": "code",
   "execution_count": 91,
   "metadata": {},
   "outputs": [
    {
     "name": "stdout",
     "output_type": "stream",
     "text": [
      "The mean is:  41.989\n",
      "The standard deviation is:  16.144705959865934\n"
     ]
    }
   ],
   "source": [
    "# your code here\n",
    "print('The mean is: ', data.mean().values[0])\n",
    "print('The standard deviation is: ', data.std().values[0])"
   ]
  },
  {
   "cell_type": "code",
   "execution_count": 92,
   "metadata": {},
   "outputs": [
    {
     "name": "stdout",
     "output_type": "stream",
     "text": [
      "The mean is located in a bin which is not the highest and the standard deviation would be around 14. However, the existence of a bin with a high frequency far away from the central ones, increases the mean and the standard deviation.\n"
     ]
    }
   ],
   "source": [
    "print(\"\"\"The mean is located in a bin which is not the highest and the standard deviation would be around 14. However, the \\\n",
    "existence of a bin with a high frequency far away from the central ones, increases the mean and the standard deviation.\"\"\")"
   ]
  },
  {
   "cell_type": "markdown",
   "metadata": {},
   "source": [
    "#### 3.- Calculate the four quartiles. Use the results to explain your reasoning for question in step 2. How much of a difference is there between the median and the mean?"
   ]
  },
  {
   "cell_type": "code",
   "execution_count": 93,
   "metadata": {},
   "outputs": [
    {
     "name": "stdout",
     "output_type": "stream",
     "text": [
      "The first quartile is:  30.0\n",
      "The second quartile is:  40.0\n",
      "The third quartile is:  53.0\n",
      "The fourth quartile is:  77.0\n"
     ]
    }
   ],
   "source": [
    "# your code here\n",
    "print(\"The first quartile is: \", median(data[['observation']], q=0.25)[0])\n",
    "print(\"The second quartile is: \", median(data[['observation']])[0])\n",
    "print(\"The third quartile is: \", median(data[['observation']], q=0.75)[0])\n",
    "print(\"The fourth quartile is: \", median(data[['observation']], q=1)[0])"
   ]
  },
  {
   "cell_type": "code",
   "execution_count": 94,
   "metadata": {},
   "outputs": [
    {
     "name": "stdout",
     "output_type": "stream",
     "text": [
      "The median  (second quartile) is lower than the mean, because median is a measure of central tendency which is less susceptible to values which are far away from the central values, when alll of them are sorted. The difference between the median and the mean is -1.989.\n"
     ]
    }
   ],
   "source": [
    "print(f\"\"\"The median  (second quartile) is lower than the mean, because median is a measure of central tendency which is \\\n",
    "less susceptible to values which are far away from the central values, when alll of them are sorted. The difference between \\\n",
    "the median and the mean is {median(data[['observation']])[0]-data.mean().values[0]:.3f}.\"\"\")"
   ]
  },
  {
   "cell_type": "markdown",
   "metadata": {},
   "source": [
    "#### 4.- Calculate other percentiles that might be useful to give more arguments to your reasoning."
   ]
  },
  {
   "cell_type": "code",
   "execution_count": 95,
   "metadata": {},
   "outputs": [
    {
     "name": "stdout",
     "output_type": "stream",
     "text": [
      "The percentile 10 is:  22.0\n",
      "The percentile 90 is:  67.0\n",
      "The percentile 20 is:  28.0\n",
      "The percentile 80 is:  57.0\n",
      "The percentile 30 is:  32.0\n",
      "The percentile 70 is:  50.0\n",
      "The percentile 40 is:  36.0\n",
      "The percentile 60 is:  45.0\n"
     ]
    }
   ],
   "source": [
    "# your code here\n",
    "print(\"The percentile 10 is: \", median(data[['observation']], q=0.1)[0])\n",
    "print(\"The percentile 90 is: \", median(data[['observation']], q=0.9)[0])\n",
    "print(\"The percentile 20 is: \", median(data[['observation']], q=0.2)[0])\n",
    "print(\"The percentile 80 is: \", median(data[['observation']], q=0.8)[0])\n",
    "print(\"The percentile 30 is: \", median(data[['observation']], q=0.3)[0])\n",
    "print(\"The percentile 70 is: \", median(data[['observation']], q=0.7)[0])\n",
    "print(\"The percentile 40 is: \", median(data[['observation']], q=0.4)[0])\n",
    "print(\"The percentile 60 is: \", median(data[['observation']], q=0.6)[0])"
   ]
  },
  {
   "cell_type": "code",
   "execution_count": 96,
   "metadata": {},
   "outputs": [
    {
     "name": "stdout",
     "output_type": "stream",
     "text": [
      "The difference between the median and the values of percentiles 60, 70, 80, 90 is higher than the difference between the median and percentiles of 40, 30, 20 and 10. This is one more argument to support my reasoning in step 2.\n"
     ]
    }
   ],
   "source": [
    "print(\"\"\"The difference between the median and the values of percentiles 60, 70, 80, 90 is higher than the difference \\\n",
    "between the median and percentiles of 40, 30, 20 and 10. This is one more argument to support my reasoning in step 2.\"\"\")"
   ]
  },
  {
   "cell_type": "markdown",
   "metadata": {},
   "source": [
    "## Bonus challenge\n",
    "Compare the information about the three neighbourhoods. Prepare a report about the three of them. Remember to find out which are their similarities and their differences backing your arguments in basic statistics."
   ]
  },
  {
   "cell_type": "code",
   "execution_count": 97,
   "metadata": {},
   "outputs": [
    {
     "data": {
      "text/html": [
       "<div>\n",
       "<style scoped>\n",
       "    .dataframe tbody tr th:only-of-type {\n",
       "        vertical-align: middle;\n",
       "    }\n",
       "\n",
       "    .dataframe tbody tr th {\n",
       "        vertical-align: top;\n",
       "    }\n",
       "\n",
       "    .dataframe thead th {\n",
       "        text-align: right;\n",
       "    }\n",
       "</style>\n",
       "<table border=\"1\" class=\"dataframe\">\n",
       "  <thead>\n",
       "    <tr style=\"text-align: right;\">\n",
       "      <th></th>\n",
       "      <th>0</th>\n",
       "      <th>1</th>\n",
       "      <th>2</th>\n",
       "    </tr>\n",
       "  </thead>\n",
       "  <tbody>\n",
       "    <tr>\n",
       "      <th>count</th>\n",
       "      <td>1000.0000</td>\n",
       "      <td>1000.000000</td>\n",
       "      <td>1000.000000</td>\n",
       "    </tr>\n",
       "    <tr>\n",
       "      <th>mean</th>\n",
       "      <td>36.5600</td>\n",
       "      <td>27.155000</td>\n",
       "      <td>41.989000</td>\n",
       "    </tr>\n",
       "    <tr>\n",
       "      <th>std</th>\n",
       "      <td>12.8165</td>\n",
       "      <td>2.969814</td>\n",
       "      <td>16.144706</td>\n",
       "    </tr>\n",
       "    <tr>\n",
       "      <th>min</th>\n",
       "      <td>1.0000</td>\n",
       "      <td>19.000000</td>\n",
       "      <td>1.000000</td>\n",
       "    </tr>\n",
       "    <tr>\n",
       "      <th>25%</th>\n",
       "      <td>28.0000</td>\n",
       "      <td>25.000000</td>\n",
       "      <td>30.000000</td>\n",
       "    </tr>\n",
       "    <tr>\n",
       "      <th>50%</th>\n",
       "      <td>37.0000</td>\n",
       "      <td>27.000000</td>\n",
       "      <td>40.000000</td>\n",
       "    </tr>\n",
       "    <tr>\n",
       "      <th>75%</th>\n",
       "      <td>45.0000</td>\n",
       "      <td>29.000000</td>\n",
       "      <td>53.000000</td>\n",
       "    </tr>\n",
       "    <tr>\n",
       "      <th>max</th>\n",
       "      <td>82.0000</td>\n",
       "      <td>36.000000</td>\n",
       "      <td>77.000000</td>\n",
       "    </tr>\n",
       "  </tbody>\n",
       "</table>\n",
       "</div>"
      ],
      "text/plain": [
       "               0            1            2\n",
       "count  1000.0000  1000.000000  1000.000000\n",
       "mean     36.5600    27.155000    41.989000\n",
       "std      12.8165     2.969814    16.144706\n",
       "min       1.0000    19.000000     1.000000\n",
       "25%      28.0000    25.000000    30.000000\n",
       "50%      37.0000    27.000000    40.000000\n",
       "75%      45.0000    29.000000    53.000000\n",
       "max      82.0000    36.000000    77.000000"
      ]
     },
     "execution_count": 97,
     "metadata": {},
     "output_type": "execute_result"
    }
   ],
   "source": [
    "# your code here\n",
    "# let's define a list where each the dataframe of each csv file of interest will be stored\n",
    "lst= list()\n",
    "\n",
    "# let's define each file to be read in a list\n",
    "files = ['ages_population.csv', 'ages_population2.csv', 'ages_population3.csv']\n",
    "\n",
    "# let's loop \n",
    "for file in files:\n",
    "    df = pd.read_csv('../data/'+file, index_col=None, header=0)\n",
    "    lst.append(df)\n",
    "    \n",
    "# concatenation of three dataframes in a single dataframe\n",
    "# the first column corresponds to the first neighbourhood (n1), the second column corresponds to the second neighbourhood (n2)\n",
    "# and the third column corresponds to the third neighbourhood (n3)\n",
    "data = pd.concat(lst, axis=1, ignore_index=True)\n",
    "\n",
    "# let's check some basic statistics about the three neighbourhoods\n",
    "data.describe()"
   ]
  },
  {
   "cell_type": "code",
   "execution_count": 98,
   "metadata": {},
   "outputs": [
    {
     "name": "stdout",
     "output_type": "stream",
     "text": [
      "There are 1000 persons in each neighbourhood. \n",
      "\n",
      "The range of: \n",
      "* n1 goes from 1 to 82 (81 years), \n",
      "* n2 goes from 19 to 36 (17 years),\n",
      "* n3 goes from 1 to 77 (76 years).\n",
      "\n",
      "The range of n2 is much lower than the range of n1 and n2. That is the reason for having a greater difference in standard deviations (n1: ~13, n2: ~3, n3: ~16).\n",
      "\n",
      "The mean of n2 is also lower than the means of n1 and n3, because its population is younger than in the other 2 neighbourhoods. The means are:\n",
      "* for n1 around 37 years,\n",
      "* for n2 around 27 years,\n",
      "* for n3 around 42 years.\n",
      "Considering the medians:\n",
      "* for n1 is 37,\n",
      "* for n2 is 27,\n",
      "* for n3 is 40.\n",
      "\n",
      "As it can be seen, n3 is the only neighbourhood whose median differs a certain amount (2 years) from the mean. The reason for that is that there is an amount of persons whose age is above 40 years that increases the average of years. It can be observed either by the difference between median and third quartile of n1 (8 years) and n3 (13 years). Additionally, despite of n1 having a greater range than n3, the standard deviation is lower in n1 comparing to n3. All these points support the idea of n3 having a population older than n1.\n",
      "\n"
     ]
    }
   ],
   "source": [
    "print(\"\"\"There are 1000 persons in each neighbourhood. \n",
    "\n",
    "The range of: \n",
    "* n1 goes from 1 to 82 (81 years), \n",
    "* n2 goes from 19 to 36 (17 years),\n",
    "* n3 goes from 1 to 77 (76 years).\n",
    "\n",
    "The range of n2 is much lower than the range of n1 and n2. That is the reason for having a greater difference in standard \\\n",
    "deviations (n1: ~13, n2: ~3, n3: ~16).\n",
    "\n",
    "The mean of n2 is also lower than the means of n1 and n3, because its population is younger than in the other 2 \\\n",
    "neighbourhoods. The means are:\n",
    "* for n1 around 37 years,\n",
    "* for n2 around 27 years,\n",
    "* for n3 around 42 years.\n",
    "Considering the medians:\n",
    "* for n1 is 37,\n",
    "* for n2 is 27,\n",
    "* for n3 is 40.\n",
    "\n",
    "As it can be seen, n3 is the only neighbourhood whose median differs a certain amount (2 years) from the mean. The reason for \\\n",
    "that is that there is an amount of persons whose age is above 40 years that increases the average of years. It can be \\\n",
    "observed either by the difference between median and third quartile of n1 (8 years) and n3 (13 years). Additionally, despite of \\\n",
    "n1 having a greater range than n3, the standard deviation is lower in n1 comparing to n3. All these points support the idea \\\n",
    "of n3 having a population older than n1.\n",
    "\"\"\")"
   ]
  }
 ],
 "metadata": {
  "kernelspec": {
   "display_name": "Python 3 (ipykernel)",
   "language": "python",
   "name": "python3"
  },
  "language_info": {
   "codemirror_mode": {
    "name": "ipython",
    "version": 3
   },
   "file_extension": ".py",
   "mimetype": "text/x-python",
   "name": "python",
   "nbconvert_exporter": "python",
   "pygments_lexer": "ipython3",
   "version": "3.9.7"
  }
 },
 "nbformat": 4,
 "nbformat_minor": 2
}
